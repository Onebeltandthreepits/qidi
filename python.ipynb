{
 "cells": [
  {
   "cell_type": "code",
   "execution_count": 1,
   "metadata": {},
   "outputs": [
    {
     "data": {
      "text/plain": [
       "37"
      ]
     },
     "execution_count": 1,
     "metadata": {},
     "output_type": "execute_result"
    }
   ],
   "source": [
    "ord('%')"
   ]
  },
  {
   "cell_type": "code",
   "execution_count": 2,
   "metadata": {
    "scrolled": true
   },
   "outputs": [
    {
     "data": {
      "text/plain": [
       "59"
      ]
     },
     "execution_count": 2,
     "metadata": {},
     "output_type": "execute_result"
    }
   ],
   "source": [
    "ord(';')"
   ]
  },
  {
   "cell_type": "code",
   "execution_count": 3,
   "metadata": {},
   "outputs": [],
   "source": [
    "import random"
   ]
  },
  {
   "cell_type": "code",
   "execution_count": 4,
   "metadata": {},
   "outputs": [
    {
     "name": "stdout",
     "output_type": "stream",
     "text": [
      "qA2W4Y4bG06BTIcVF58C88SXwgSJi0tc3itaPgqU5O24w6he2F8Qp5QOtGQ1\n"
     ]
    }
   ],
   "source": [
    "def randomStr(startChar,endChar):\n",
    "    return chr(random.randint(ord(startChar),ord(endChar)))\n",
    "\n",
    "\n",
    "def newVerifyCode(lenth):\n",
    "    vcode = []\n",
    "    for _ in range(lenth):\n",
    "        s_ = random.randint(1,3)\n",
    "        chrs = ('0','9') if s_ ==1 else ('A','Z') if s_ ==2 else ('a','z')\n",
    "        vcode.append(randomStr(*chrs))\n",
    "        \n",
    "    return ''.join(vcode)\n",
    "\n",
    "\n",
    "\n",
    "print(newVerifyCode(60))"
   ]
  },
  {
   "cell_type": "code",
   "execution_count": 5,
   "metadata": {},
   "outputs": [
    {
     "name": "stdout",
     "output_type": "stream",
     "text": [
      "4\n"
     ]
    }
   ],
   "source": [
    "ps = [11,2,2,3,3,44,1,3,34,5,3,6]\n",
    "\n",
    "print(ps.count(3))"
   ]
  },
  {
   "cell_type": "code",
   "execution_count": 6,
   "metadata": {},
   "outputs": [],
   "source": [
    "import collections"
   ]
  },
  {
   "cell_type": "code",
   "execution_count": 11,
   "metadata": {},
   "outputs": [
    {
     "data": {
      "text/plain": [
       "Counter({11: 1, 2: 2, 3: 4, 44: 1, 1: 1, 34: 1, 5: 1, 6: 1})"
      ]
     },
     "execution_count": 11,
     "metadata": {},
     "output_type": "execute_result"
    }
   ],
   "source": [
    "ps_ = collections.Counter(ps)\n",
    "ps_"
   ]
  },
  {
   "cell_type": "code",
   "execution_count": 17,
   "metadata": {
    "collapsed": true
   },
   "outputs": [
    {
     "name": "stdout",
     "output_type": "stream",
     "text": [
      "11 1\n",
      "2 2\n",
      "3 4\n",
      "44 1\n",
      "1 1\n",
      "34 1\n",
      "5 1\n",
      "6 1\n"
     ]
    }
   ],
   "source": [
    "for key,value in ps_.items():\n",
    "    print(key,value)"
   ]
  },
  {
   "cell_type": "code",
   "execution_count": 18,
   "metadata": {},
   "outputs": [
    {
     "name": "stdout",
     "output_type": "stream",
     "text": [
      "32\n"
     ]
    }
   ],
   "source": [
    "ps = [1,2,3,4,5,6,7,8,9]\n",
    "\n",
    "print(sum([i+3 for i in ps if i % 2 == 0]))"
   ]
  },
  {
   "cell_type": "code",
   "execution_count": 19,
   "metadata": {},
   "outputs": [
    {
     "data": {
      "text/plain": [
       "[1, 2, 3, 4, 5, 6, 7, 8]"
      ]
     },
     "execution_count": 19,
     "metadata": {},
     "output_type": "execute_result"
    }
   ],
   "source": [
    "ps = [[1,2],[3,4],[5,6],[7,8]]\n",
    "\n",
    "ps = [i for item in ps for i in item]\n",
    "\n",
    "ps\n",
    "\n"
   ]
  },
  {
   "cell_type": "code",
   "execution_count": 20,
   "metadata": {},
   "outputs": [
    {
     "name": "stdout",
     "output_type": "stream",
     "text": [
      "[10]\n",
      "[2, 5, 20]\n",
      "[10, 8]\n"
     ]
    }
   ],
   "source": [
    "def add(n,l=[]):\n",
    "    l.append(n)\n",
    "    print(l)\n",
    "    \n",
    "add(10)\n",
    "\n",
    "add(20,[2,5])\n",
    "\n",
    "add(8)"
   ]
  },
  {
   "cell_type": "code",
   "execution_count": 21,
   "metadata": {},
   "outputs": [
    {
     "data": {
      "text/plain": [
       "'acdb'"
      ]
     },
     "execution_count": 21,
     "metadata": {},
     "output_type": "execute_result"
    }
   ],
   "source": [
    "s = 'abcdacd'\n",
    "''.join(list(set(s)))"
   ]
  },
  {
   "cell_type": "code",
   "execution_count": 23,
   "metadata": {},
   "outputs": [
    {
     "name": "stdout",
     "output_type": "stream",
     "text": [
      "{'id': 101, 'name': 'disen', 'age': 30, 'sex': '男'}\n"
     ]
    }
   ],
   "source": [
    "person = {'id':101,'name':'disen','age':20}\n",
    "person2 = {'id':101,'age':30,'sex':'男'}\n",
    "person.update(person2)\n",
    "\n",
    "print(person)"
   ]
  },
  {
   "cell_type": "code",
   "execution_count": 24,
   "metadata": {
    "scrolled": true
   },
   "outputs": [
    {
     "data": {
      "text/plain": [
       "{101: 'id', 'disen': 'name', 30: 'age', '男': 'sex'}"
      ]
     },
     "execution_count": 24,
     "metadata": {},
     "output_type": "execute_result"
    }
   ],
   "source": [
    "{value:key for key,value in person.items()}"
   ]
  },
  {
   "cell_type": "code",
   "execution_count": 27,
   "metadata": {
    "scrolled": true
   },
   "outputs": [
    {
     "data": {
      "text/plain": [
       "{101: 'id', 'disen': 'name', 30: 'age', '男': 'sex'}"
      ]
     },
     "execution_count": 27,
     "metadata": {},
     "output_type": "execute_result"
    }
   ],
   "source": [
    "dict(zip(person.values(),person.keys()))"
   ]
  },
  {
   "cell_type": "code",
   "execution_count": 28,
   "metadata": {},
   "outputs": [],
   "source": [
    "from collections import OrderedDict"
   ]
  },
  {
   "cell_type": "code",
   "execution_count": 30,
   "metadata": {},
   "outputs": [
    {
     "name": "stdout",
     "output_type": "stream",
     "text": [
      "OrderedDict([(101, 101), (99, 99), (109, 109)])\n",
      "{101: 101, 99: 99, 109: 109}\n"
     ]
    }
   ],
   "source": [
    "od = OrderedDict()\n",
    "od[101]=101\n",
    "od[99]=99\n",
    "od[109]=109\n",
    "print(od)\n",
    "\n",
    "d={}\n",
    "d[101]=101\n",
    "d[99]=99\n",
    "d[109]=109\n",
    "print(d)"
   ]
  },
  {
   "cell_type": "code",
   "execution_count": null,
   "metadata": {},
   "outputs": [],
   "source": []
  },
  {
   "cell_type": "code",
   "execution_count": 33,
   "metadata": {},
   "outputs": [
    {
     "name": "stdout",
     "output_type": "stream",
     "text": [
      "*****************\n",
      "49995000\n",
      "*****************\n",
      "get 用时：0.757000 秒\n"
     ]
    }
   ],
   "source": [
    "import time\n",
    "#装饰函数（有参、无参）\n",
    "def runtime(func):\n",
    "    def wrapper(*args,**kwargs):\n",
    "        starttime = time.time()\n",
    "        print('*****************')\n",
    "        result = func(*args,**kwargs)\n",
    "        print('*****************')\n",
    "        usetime = round(time.time()-starttime,4)\n",
    "        print(func.__name__,'用时：%f 秒'%usetime)\n",
    "        return result\n",
    "    return wrapper\n",
    "\n",
    "@runtime\n",
    "def get():\n",
    "    n = 0\n",
    "    for i in range(10000):\n",
    "        n +=i\n",
    "    print(n)\n",
    "    \n",
    "get()"
   ]
  },
  {
   "cell_type": "code",
   "execution_count": null,
   "metadata": {},
   "outputs": [],
   "source": []
  },
  {
   "cell_type": "code",
   "execution_count": 44,
   "metadata": {},
   "outputs": [
    {
     "name": "stdout",
     "output_type": "stream",
     "text": [
      "当前用户无权限操作！！\n"
     ]
    }
   ],
   "source": [
    "#权限验证\n",
    "right={'ADD':1,'UPDATE':2,'DELETE':4,'QUERY':8}\n",
    "\n",
    "user_right =10\n",
    "\n",
    "def check_qx(name):\n",
    "    def wrapper1(func):\n",
    "        def wrapper2(*args,**kwargs):\n",
    "            num = right[name]\n",
    "            if num:\n",
    "                if user_right & num ==num:                \n",
    "                    res = func(*args,**kwargs)            \n",
    "                    return res\n",
    "                else:\n",
    "                    print('当前用户无权限操作！！')\n",
    "                    \n",
    "            else:\n",
    "                print('输入正确权限名称')\n",
    "        return wrapper2 \n",
    "    return wrapper1\n",
    "\n",
    "@check_qx('ADD')\n",
    "def addOrder(order_number,order_salary):\n",
    "    print('正在添加订单号：',order_number,'本次待支付金额：',order_salary)\n",
    "    \n",
    "    \n",
    "addOrder(1,1000)"
   ]
  },
  {
   "cell_type": "code",
   "execution_count": 46,
   "metadata": {},
   "outputs": [
    {
     "name": "stdout",
     "output_type": "stream",
     "text": [
      "正在添加订单号： 1 本次待支付金额： 1000\n"
     ]
    }
   ],
   "source": [
    "class QXWrapper:\n",
    "    def __init__(self,func):\n",
    "        self.func = func\n",
    "        \n",
    "    def __call__(self,*args,**kwargs):\n",
    "        res = self.func(*args,**kwargs)\n",
    "        return res\n",
    "\n",
    "    \n",
    "@QXWrapper    \n",
    "def addOrder(order_number,order_salary):\n",
    "    print('正在添加订单号：',order_number,'本次待支付金额：',order_salary)\n",
    "    \n",
    "    \n",
    "addOrder(1,1000)"
   ]
  },
  {
   "cell_type": "code",
   "execution_count": 50,
   "metadata": {},
   "outputs": [
    {
     "name": "stdout",
     "output_type": "stream",
     "text": [
      "正在添加订单号： 1 本次待支付金额： 1000\n"
     ]
    }
   ],
   "source": [
    "user_right =12\n",
    "\n",
    "class QXWrapper1:\n",
    "    def __init__(self,name):\n",
    "        self.name = name\n",
    "        \n",
    "    def __call__(self,func):\n",
    "        def wrapper(*args,**kwargs):        \n",
    "            num = right[self.name]\n",
    "            if num:\n",
    "                if user_right & num ==num:                \n",
    "                    res = func(*args,**kwargs)            \n",
    "                    return res\n",
    "                else:\n",
    "                    print('当前用户无权限操作！！')\n",
    "\n",
    "            else:\n",
    "                print('输入正确权限名称')\n",
    "        return wrapper\n",
    "    \n",
    "@QXWrapper1('DELETE')    \n",
    "def addOrder(order_number,order_salary):\n",
    "    print('正在添加订单号：',order_number,'本次待支付金额：',order_salary)\n",
    "    \n",
    "    \n",
    "addOrder(1,1000)"
   ]
  },
  {
   "cell_type": "code",
   "execution_count": 3,
   "metadata": {},
   "outputs": [
    {
     "name": "stdout",
     "output_type": "stream",
     "text": [
      "-----D hi-----\n",
      "----B hi----\n",
      "---A hi---\n",
      "--C hi--\n"
     ]
    }
   ],
   "source": [
    "class A():\n",
    "    def hi(self):\n",
    "        print('---A hi---')\n",
    "        super().hi()\n",
    "\n",
    "class B(A):\n",
    "    def hi(self):\n",
    "        print('----B hi----')\n",
    "        super().hi()\n",
    "\n",
    "class C():\n",
    "    def hi(self):\n",
    "        print('--C hi--')\n",
    "\n",
    "class D(B,C):\n",
    "    def hi(self):\n",
    "        print('-----D hi-----')\n",
    "        super().hi()\n",
    "\n",
    "d = D()\n",
    "d.hi()\n"
   ]
  },
  {
   "cell_type": "code",
   "execution_count": null,
   "metadata": {},
   "outputs": [],
   "source": []
  }
 ],
 "metadata": {
  "kernelspec": {
   "display_name": "Python 3",
   "language": "python",
   "name": "python3"
  },
  "language_info": {
   "codemirror_mode": {
    "name": "ipython",
    "version": 3
   },
   "file_extension": ".py",
   "mimetype": "text/x-python",
   "name": "python",
   "nbconvert_exporter": "python",
   "pygments_lexer": "ipython3",
   "version": "3.6.5"
  }
 },
 "nbformat": 4,
 "nbformat_minor": 2
}
